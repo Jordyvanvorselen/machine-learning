{
 "cells": [
  {
   "cell_type": "markdown",
   "metadata": {},
   "source": [
    "#### Import libraries and imports"
   ]
  },
  {
   "cell_type": "code",
   "execution_count": 2,
   "metadata": {},
   "outputs": [
    {
     "name": "stderr",
     "output_type": "stream",
     "text": [
      "C:\\Users\\Jordy\\Anaconda3\\lib\\site-packages\\sklearn\\cross_validation.py:41: DeprecationWarning: This module was deprecated in version 0.18 in favor of the model_selection module into which all the refactored classes and functions are moved. Also note that the interface of the new CV iterators are different from that of this module. This module will be removed in 0.20.\n",
      "  \"This module will be removed in 0.20.\", DeprecationWarning)\n"
     ]
    },
    {
     "name": "stdout",
     "output_type": "stream",
     "text": [
      "Finished loading libraries and imports\n"
     ]
    }
   ],
   "source": [
    "import pandas as pd\n",
    "from sklearn.cross_validation import train_test_split\n",
    "from sklearn.tree import DecisionTreeClassifier\n",
    "import sklearn.metrics\n",
    "from sklearn import tree, svm\n",
    "from sklearn.neural_network import MLPClassifier\n",
    "from sklearn.ensemble import RandomForestClassifier\n",
    "from sklearn.linear_model import LinearRegression\n",
    "from sklearn.cross_validation import cross_val_score\n",
    "from sklearn.naive_bayes import GaussianNB\n",
    "print('Finished loading libraries and imports')"
   ]
  },
  {
   "cell_type": "markdown",
   "metadata": {},
   "source": [
    "#### Loading and merging the data"
   ]
  },
  {
   "cell_type": "code",
   "execution_count": 3,
   "metadata": {},
   "outputs": [
    {
     "name": "stdout",
     "output_type": "stream",
     "text": [
      "Finished loading and merging the data\n"
     ]
    }
   ],
   "source": [
    "df_matches = pd.read_csv(\n",
    "    'data/matchResults.csv').merge(pd.read_csv('data/matchLineups.csv'), on='Match ID')\n",
    "df_statistics = pd.read_csv('data/playerStats.csv')\n",
    "df_teams = pd.read_csv('data/teams.csv')\n",
    "print('Finished loading and merging the data')"
   ]
  },
  {
   "cell_type": "markdown",
   "metadata": {},
   "source": [
    "#### Loading functions"
   ]
  },
  {
   "cell_type": "code",
   "execution_count": 4,
   "metadata": {},
   "outputs": [
    {
     "name": "stdout",
     "output_type": "stream",
     "text": [
      "Finished loading functions\n"
     ]
    }
   ],
   "source": [
    "def clean_matches_dataset():\n",
    "    df = pd.DataFrame()\n",
    "    df['match_id'] = df_matches['Match ID']\n",
    "    df['map'] = df_matches['Map']\n",
    "    df['team_1_id'] = df_matches['Team 1 ID']\n",
    "    df['team_2_id'] = df_matches['Team 2 ID']\n",
    "    df['team_1_score'] = df_matches['Team 1 Half 1 Score'] + \\\n",
    "        df_matches['Team 1 Half 2 Score'] + df_matches['Team 1 Overtime Score']\n",
    "    df['team_2_score'] = df_matches['Team 2 Half 1 Score'] + \\\n",
    "        df_matches['Team 2 Half 2 Score'] + df_matches['Team 2 Overtime Score']\n",
    "    print('Finished cleaning matches dataset')\n",
    "    return df\n",
    "\n",
    "\n",
    "def decide_winners(dataframe):\n",
    "    for i, row in dataframe.iterrows():\n",
    "        dataframe.set_value(\n",
    "            i, 'winning_team_nr', 1 if row['team_1_score'] > row['team_2_score'] else 2)\n",
    "        dataframe.set_value(\n",
    "            i, 'winning_team_id', row['team_1_id'] if row['team_1_score'] > row['team_2_score'] else row['team_2_id'])\n",
    "    print('Finished deciding winners')\n",
    "    return dataframe\n",
    "\n",
    "\n",
    "def calculate_winrate_for_team_on_map(df_total, team_id, map_id):\n",
    "    matches = pd.DataFrame()\n",
    "    won_matches = pd.DataFrame()\n",
    "\n",
    "    df_filtered = df_total.loc[(df_total['team_1_id'] == team_id) & (\n",
    "        df_total['map'] == map_id)]\n",
    "    df_filtered = df_filtered.append(\n",
    "        df_total.loc[(df_total['team_2_id'] == team_id) & (df_total['map'] == map_id)])\n",
    "    matches = matches.append(df_filtered)\n",
    "    won_matches = won_matches.append(df_total.loc[(\n",
    "        df_total['winning_team_id'] == team_id) & (df_total['map'] == map_id)])\n",
    "\n",
    "    return len(won_matches) / len(matches) * 100\n",
    "\n",
    "\n",
    "def calculate_winrate_for_matches(df_total):\n",
    "    already_calculated_keys = {}\n",
    "    for i, row in df_total.iterrows():\n",
    "        team_1_key = str(row['map']) + str(row['team_1_id'])\n",
    "        team_2_key = str(row['map']) + str(row['team_2_id'])\n",
    "        if team_1_key not in already_calculated_keys:\n",
    "            winrate = calculate_winrate_for_team_on_map(\n",
    "                df_total, row['team_1_id'], row['map'])\n",
    "            already_calculated_keys[team_1_key] = winrate\n",
    "            df_total.set_value(i, 'team_1_winrate', winrate)\n",
    "        else:\n",
    "            df_total.set_value(i, 'team_1_winrate',\n",
    "                               already_calculated_keys[team_1_key])\n",
    "        if team_2_key not in already_calculated_keys:\n",
    "            winrate = calculate_winrate_for_team_on_map(\n",
    "                df_total, row['team_2_id'], row['map'])\n",
    "            already_calculated_keys[team_2_key] = winrate\n",
    "            df_total.set_value(i, 'team_2_winrate', winrate)\n",
    "        else:\n",
    "            df_total.set_value(i, 'team_2_winrate',\n",
    "                               already_calculated_keys[team_2_key])\n",
    "    print('Finished calculating winrates')\n",
    "    df_total.to_csv('winrates.csv', index=False)\n",
    "    return df_total\n",
    "\n",
    "\n",
    "def split_data_train_test(df):\n",
    "    x = df[['team_1_winrate', 'team_2_winrate']].values\n",
    "    y = df['winning_team_nr'].values\n",
    "    x_train, x_test, y_train, y_test = train_test_split(\n",
    "        x, y, test_size=0.3, random_state=1337)\n",
    "    return {'x_train': x_train, 'x_test': x_test, 'y_train': y_train, 'y_test': y_test}\n",
    "\n",
    "\n",
    "def decision_trees(sets):\n",
    "    clf = DecisionTreeClassifier(criterion=\"gini\", random_state=100,\n",
    "                                 max_depth=3, min_samples_leaf=5)\n",
    "    clf.fit(sets['x_train'], sets['y_train'])\n",
    "    y_pred = clf.predict(sets['x_test'])\n",
    "    print(\n",
    "        f\"Decision trees cross validation score is {cross_val_score(clf, df_final_data[['team_1_winrate', 'team_2_winrate']].values, df_final_data['winning_team_nr'].values, cv=5)}\")\n",
    "\n",
    "\n",
    "def support_vector_machines(sets):\n",
    "    clf = svm.SVC()\n",
    "    clf.fit(sets['x_train'], sets['y_train'])\n",
    "    y_pred = clf.predict(sets['x_test'])\n",
    "    print(\n",
    "        f\"Support Vector Machines cross validation score is {cross_val_score(clf, df_final_data[['team_1_winrate', 'team_2_winrate']].values, df_final_data['winning_team_nr'].values, cv=5)}\")\n",
    "\n",
    "\n",
    "def neural_network_mlp(sets):\n",
    "    clf = MLPClassifier(solver='lbfgs', alpha=1e-5,\n",
    "                        hidden_layer_sizes=(5, 2), random_state=1)\n",
    "    clf.fit(sets['x_train'], sets['y_train'])\n",
    "    y_pred = clf.predict(sets['x_test'])\n",
    "    print(\n",
    "        f\"Neural Network MLP cross validation score is {cross_val_score(clf, df_final_data[['team_1_winrate', 'team_2_winrate']].values, df_final_data['winning_team_nr'].values, cv=5)}\")\n",
    "\n",
    "\n",
    "def random_forest(sets):\n",
    "    clf = RandomForestClassifier(max_depth=2, random_state=0)\n",
    "    clf.fit(sets['x_train'], sets['y_train'])\n",
    "    y_pred = clf.predict(sets['x_test'])\n",
    "    print(\n",
    "        f\"Random Forest cross validation score is {cross_val_score(clf, df_final_data[['team_1_winrate', 'team_2_winrate']].values, df_final_data['winning_team_nr'].values, cv=5)}\")\n",
    "\n",
    "\n",
    "def linear_regression(sets):\n",
    "    clf = LinearRegression()\n",
    "    clf.fit(sets['x_train'], sets['y_train'])\n",
    "    y_pred = clf.predict(sets['x_test'])\n",
    "    print(\n",
    "        f\"Linear Regression cross validation score is {cross_val_score(clf, df_final_data[['team_1_winrate', 'team_2_winrate']].values, df_final_data['winning_team_nr'].values, cv=5)}\")\n",
    "\n",
    "\n",
    "def naive_bayes(sets):\n",
    "    clf = GaussianNB()\n",
    "    clf.fit(sets['x_train'], sets['y_train'])\n",
    "    y_pred = clf.predict(sets['x_test'])\n",
    "    print(\n",
    "        f\"Naive Bayes cross validation score is {cross_val_score(clf, df_final_data[['team_1_winrate', 'team_2_winrate']].values, df_final_data['winning_team_nr'].values, cv=5)}\")\n",
    "\n",
    "\n",
    "print('Finished loading functions')"
   ]
  },
  {
   "cell_type": "markdown",
   "metadata": {},
   "source": [
    "#### Split dataset into test and train sets"
   ]
  },
  {
   "cell_type": "code",
   "execution_count": 5,
   "metadata": {},
   "outputs": [
    {
     "name": "stdout",
     "output_type": "stream",
     "text": [
      "Finished cleaning matches dataset\n",
      "Finished deciding winners\n",
      "Finished calculating winrates\n",
      "Finished splitting test and train data\n"
     ]
    }
   ],
   "source": [
    "df_cleaned_data = decide_winners(clean_matches_dataset())\n",
    "df_final_data = calculate_winrate_for_matches(df_cleaned_data)\n",
    "\n",
    "\n",
    "train_test_sets = split_data_train_test(pd.read_csv('winrates.csv'))\n",
    "print('Finished splitting test and train data')"
   ]
  },
  {
   "cell_type": "markdown",
   "metadata": {},
   "source": [
    "#### Examine and predict by using machine learning classifiers"
   ]
  },
  {
   "cell_type": "code",
   "execution_count": 6,
   "metadata": {},
   "outputs": [
    {
     "name": "stdout",
     "output_type": "stream",
     "text": [
      "Decision trees cross validation score is [ 0.70345513  0.700348    0.70130516  0.73486638  0.71149782]\n",
      "Support Vector Machines cross validation score is [ 0.71016654  0.70681084  0.72728403  0.75624612  0.72417651]\n",
      "Neural Network MLP cross validation score is [ 0.7147651   0.71401939  0.72641392  0.77476694  0.73250466]\n",
      "Random Forest cross validation score is [ 0.70420085  0.71116083  0.71634556  0.75537601  0.72405221]\n",
      "Linear Regression cross validation score is [ 0.24742771  0.27088622  0.28253916  0.36261161  0.31107345]\n",
      "Naive Bayes cross validation score is [ 0.71339796  0.71041511  0.72541952  0.76643878  0.72889994]\n",
      "Finished getting accuracy of all alghoritms\n"
     ]
    }
   ],
   "source": [
    "decision_trees(train_test_sets)\n",
    "support_vector_machines(train_test_sets)\n",
    "neural_network_mlp(train_test_sets)\n",
    "random_forest(train_test_sets)\n",
    "linear_regression(train_test_sets)\n",
    "naive_bayes(train_test_sets)\n",
    "print('Finished getting accuracy of all alghoritms')"
   ]
  }
 ],
 "metadata": {
  "kernelspec": {
   "display_name": "Python 3",
   "language": "python",
   "name": "python3"
  },
  "language_info": {
   "codemirror_mode": {
    "name": "ipython",
    "version": 3
   },
   "file_extension": ".py",
   "mimetype": "text/x-python",
   "name": "python",
   "nbconvert_exporter": "python",
   "pygments_lexer": "ipython3",
   "version": "3.6.3"
  }
 },
 "nbformat": 4,
 "nbformat_minor": 2
}
